{
  "cells": [
    {
      "cell_type": "code",
      "execution_count": 1,
      "metadata": {
        "id": "g2ukdx1GRBHY"
      },
      "outputs": [],
      "source": [
        "import pandas as pd\n",
        "import numpy as np"
      ]
    },
    {
      "cell_type": "code",
      "execution_count": 2,
      "metadata": {
        "colab": {
          "base_uri": "https://localhost:8080/",
          "height": 288
        },
        "id": "rHBFiUvMRS9Y",
        "outputId": "ff8ab54d-a12d-4f6f-8b8e-306a21203cd3"
      },
      "outputs": [
        {
          "data": {
            "text/html": [
              "<div>\n",
              "<style scoped>\n",
              "    .dataframe tbody tr th:only-of-type {\n",
              "        vertical-align: middle;\n",
              "    }\n",
              "\n",
              "    .dataframe tbody tr th {\n",
              "        vertical-align: top;\n",
              "    }\n",
              "\n",
              "    .dataframe thead th {\n",
              "        text-align: right;\n",
              "    }\n",
              "</style>\n",
              "<table border=\"1\" class=\"dataframe\">\n",
              "  <thead>\n",
              "    <tr style=\"text-align: right;\">\n",
              "      <th></th>\n",
              "      <th>Year</th>\n",
              "      <th>Number</th>\n",
              "      <th>First Name</th>\n",
              "      <th>Midterm 1</th>\n",
              "      <th>Midterm 2</th>\n",
              "      <th>General</th>\n",
              "      <th>Group</th>\n",
              "      <th>Paper</th>\n",
              "      <th>firstName</th>\n",
              "      <th>countryOrigin</th>\n",
              "      <th>countryOriginAlt</th>\n",
              "      <th>countriesOriginTop</th>\n",
              "      <th>score</th>\n",
              "      <th>regionOrigin</th>\n",
              "      <th>topRegionOrigin</th>\n",
              "      <th>subRegionOrigin</th>\n",
              "      <th>probabilityCalibrated</th>\n",
              "      <th>probabilityAltCalibrated</th>\n",
              "    </tr>\n",
              "  </thead>\n",
              "  <tbody>\n",
              "    <tr>\n",
              "      <th>0</th>\n",
              "      <td>2021.0</td>\n",
              "      <td>1.0</td>\n",
              "      <td>LAURA</td>\n",
              "      <td>30.0</td>\n",
              "      <td>29.0</td>\n",
              "      <td>NaN</td>\n",
              "      <td>20.0</td>\n",
              "      <td>29.0</td>\n",
              "      <td>LAURA</td>\n",
              "      <td>ES</td>\n",
              "      <td>RO</td>\n",
              "      <td>ES,RO,FI,IT,PT,LT,GB,EE,IE,CH</td>\n",
              "      <td>0.000000</td>\n",
              "      <td>Europe</td>\n",
              "      <td>Europe</td>\n",
              "      <td>Southern Europe</td>\n",
              "      <td>0.308133</td>\n",
              "      <td>0.361020</td>\n",
              "    </tr>\n",
              "    <tr>\n",
              "      <th>1</th>\n",
              "      <td>2021.0</td>\n",
              "      <td>2.0</td>\n",
              "      <td>GIOVANNI</td>\n",
              "      <td>27.0</td>\n",
              "      <td>28.0</td>\n",
              "      <td>NaN</td>\n",
              "      <td>13.0</td>\n",
              "      <td>30.0</td>\n",
              "      <td>GIOVANNI</td>\n",
              "      <td>IT</td>\n",
              "      <td>GR</td>\n",
              "      <td>IT,GR,CH,BJ,CY,IL,ID,NA,HU,GE</td>\n",
              "      <td>21.333517</td>\n",
              "      <td>Europe</td>\n",
              "      <td>Europe</td>\n",
              "      <td>Southern Europe</td>\n",
              "      <td>0.964457</td>\n",
              "      <td>0.976309</td>\n",
              "    </tr>\n",
              "    <tr>\n",
              "      <th>2</th>\n",
              "      <td>2021.0</td>\n",
              "      <td>3.0</td>\n",
              "      <td>ANANDYA</td>\n",
              "      <td>NaN</td>\n",
              "      <td>NaN</td>\n",
              "      <td>55.0</td>\n",
              "      <td>9.0</td>\n",
              "      <td>28.0</td>\n",
              "      <td>ANANDYA</td>\n",
              "      <td>ID</td>\n",
              "      <td>LK</td>\n",
              "      <td>ID,LK,IN,MU,UA,TZ,AM,BG,NP,BN</td>\n",
              "      <td>0.031871</td>\n",
              "      <td>Asia</td>\n",
              "      <td>Asia</td>\n",
              "      <td>South-Eastern Asia</td>\n",
              "      <td>0.357164</td>\n",
              "      <td>0.390468</td>\n",
              "    </tr>\n",
              "    <tr>\n",
              "      <th>3</th>\n",
              "      <td>2021.0</td>\n",
              "      <td>4.0</td>\n",
              "      <td>FEDERICA</td>\n",
              "      <td>8.0</td>\n",
              "      <td>NaN</td>\n",
              "      <td>59.0</td>\n",
              "      <td>18.0</td>\n",
              "      <td>30.0</td>\n",
              "      <td>FEDERICA</td>\n",
              "      <td>IT</td>\n",
              "      <td>ES</td>\n",
              "      <td>IT,ES,MD,PT,RO,HR,TZ,LR,CH,GH</td>\n",
              "      <td>14.685878</td>\n",
              "      <td>Europe</td>\n",
              "      <td>Europe</td>\n",
              "      <td>Southern Europe</td>\n",
              "      <td>0.914701</td>\n",
              "      <td>0.926704</td>\n",
              "    </tr>\n",
              "    <tr>\n",
              "      <th>4</th>\n",
              "      <td>2021.0</td>\n",
              "      <td>5.0</td>\n",
              "      <td>CAMILLA</td>\n",
              "      <td>28.0</td>\n",
              "      <td>31.0</td>\n",
              "      <td>NaN</td>\n",
              "      <td>6.0</td>\n",
              "      <td>30.0</td>\n",
              "      <td>CAMILLA</td>\n",
              "      <td>IT</td>\n",
              "      <td>SE</td>\n",
              "      <td>IT,SE,DK,PT,GB,RO,NO,CH,ES,MZ</td>\n",
              "      <td>4.203014</td>\n",
              "      <td>Europe</td>\n",
              "      <td>Europe</td>\n",
              "      <td>Southern Europe</td>\n",
              "      <td>0.571413</td>\n",
              "      <td>0.744748</td>\n",
              "    </tr>\n",
              "  </tbody>\n",
              "</table>\n",
              "</div>"
            ],
            "text/plain": [
              "     Year  Number First Name  Midterm 1  Midterm 2  General  Group  Paper  \\\n",
              "0  2021.0     1.0      LAURA       30.0       29.0      NaN   20.0   29.0   \n",
              "1  2021.0     2.0   GIOVANNI       27.0       28.0      NaN   13.0   30.0   \n",
              "2  2021.0     3.0    ANANDYA        NaN        NaN     55.0    9.0   28.0   \n",
              "3  2021.0     4.0   FEDERICA        8.0        NaN     59.0   18.0   30.0   \n",
              "4  2021.0     5.0    CAMILLA       28.0       31.0      NaN    6.0   30.0   \n",
              "\n",
              "  firstName countryOrigin countryOriginAlt             countriesOriginTop  \\\n",
              "0     LAURA            ES               RO  ES,RO,FI,IT,PT,LT,GB,EE,IE,CH   \n",
              "1  GIOVANNI            IT               GR  IT,GR,CH,BJ,CY,IL,ID,NA,HU,GE   \n",
              "2   ANANDYA            ID               LK  ID,LK,IN,MU,UA,TZ,AM,BG,NP,BN   \n",
              "3  FEDERICA            IT               ES  IT,ES,MD,PT,RO,HR,TZ,LR,CH,GH   \n",
              "4   CAMILLA            IT               SE  IT,SE,DK,PT,GB,RO,NO,CH,ES,MZ   \n",
              "\n",
              "       score regionOrigin topRegionOrigin     subRegionOrigin  \\\n",
              "0   0.000000       Europe          Europe     Southern Europe   \n",
              "1  21.333517       Europe          Europe     Southern Europe   \n",
              "2   0.031871         Asia            Asia  South-Eastern Asia   \n",
              "3  14.685878       Europe          Europe     Southern Europe   \n",
              "4   4.203014       Europe          Europe     Southern Europe   \n",
              "\n",
              "   probabilityCalibrated  probabilityAltCalibrated  \n",
              "0               0.308133                  0.361020  \n",
              "1               0.964457                  0.976309  \n",
              "2               0.357164                  0.390468  \n",
              "3               0.914701                  0.926704  \n",
              "4               0.571413                  0.744748  "
            ]
          },
          "execution_count": 2,
          "metadata": {},
          "output_type": "execute_result"
        }
      ],
      "source": [
        "main_df = pd.read_csv(\"https://raw.githubusercontent.com/Pro509/Student-Diversity-and-Performance/main/student_data.csv\") \n",
        "main_df.head()"
      ]
    },
    {
      "cell_type": "code",
      "execution_count": 3,
      "metadata": {
        "id": "xjmdSQWKT89h"
      },
      "outputs": [],
      "source": [
        "cols_to_int = ['Year','Group']\n",
        "for col in cols_to_int:\n",
        "  main_df[col] = main_df[col].fillna(0).astype(int)\n",
        "\n",
        "cols_to_float = ['Midterm 1','Midterm 2','General','Paper']\n",
        "for col in cols_to_float:\n",
        "  main_df[col]= main_df[col].replace('x', 0)\n",
        "  main_df[col] = main_df[col].fillna(0).astype(float)"
      ]
    },
    {
      "cell_type": "code",
      "execution_count": 4,
      "metadata": {
        "id": "O57hwcp2TPuj"
      },
      "outputs": [],
      "source": [
        "years_df = {}\n",
        "years = main_df['Year'].unique().tolist() \n",
        "for year in years:\n",
        "  years_df[year] = main_df[main_df['Year']==year]  "
      ]
    },
    {
      "cell_type": "code",
      "execution_count": 5,
      "metadata": {
        "colab": {
          "base_uri": "https://localhost:8080/"
        },
        "id": "rclcO7adT2lW",
        "outputId": "1feb8e9a-b88c-4d9c-bd6a-ec061194c530"
      },
      "outputs": [
        {
          "name": "stderr",
          "output_type": "stream",
          "text": [
            "/var/folders/_1/b3rdm_k545x_j0rrxlgs_15c0000gn/T/ipykernel_16950/3821932341.py:3: SettingWithCopyWarning: \n",
            "A value is trying to be set on a copy of a slice from a DataFrame.\n",
            "Try using .loc[row_indexer,col_indexer] = value instead\n",
            "\n",
            "See the caveats in the documentation: https://pandas.pydata.org/pandas-docs/stable/user_guide/indexing.html#returning-a-view-versus-a-copy\n",
            "  df['n_unique_origin'] = df.groupby('Group')['countryOrigin'].transform('nunique')\n",
            "/var/folders/_1/b3rdm_k545x_j0rrxlgs_15c0000gn/T/ipykernel_16950/3821932341.py:4: SettingWithCopyWarning: \n",
            "A value is trying to be set on a copy of a slice from a DataFrame.\n",
            "Try using .loc[row_indexer,col_indexer] = value instead\n",
            "\n",
            "See the caveats in the documentation: https://pandas.pydata.org/pandas-docs/stable/user_guide/indexing.html#returning-a-view-versus-a-copy\n",
            "  df['n_unique_subRegion'] = df.groupby('Group')['subRegionOrigin'].transform('nunique')\n",
            "/var/folders/_1/b3rdm_k545x_j0rrxlgs_15c0000gn/T/ipykernel_16950/3821932341.py:3: SettingWithCopyWarning: \n",
            "A value is trying to be set on a copy of a slice from a DataFrame.\n",
            "Try using .loc[row_indexer,col_indexer] = value instead\n",
            "\n",
            "See the caveats in the documentation: https://pandas.pydata.org/pandas-docs/stable/user_guide/indexing.html#returning-a-view-versus-a-copy\n",
            "  df['n_unique_origin'] = df.groupby('Group')['countryOrigin'].transform('nunique')\n",
            "/var/folders/_1/b3rdm_k545x_j0rrxlgs_15c0000gn/T/ipykernel_16950/3821932341.py:4: SettingWithCopyWarning: \n",
            "A value is trying to be set on a copy of a slice from a DataFrame.\n",
            "Try using .loc[row_indexer,col_indexer] = value instead\n",
            "\n",
            "See the caveats in the documentation: https://pandas.pydata.org/pandas-docs/stable/user_guide/indexing.html#returning-a-view-versus-a-copy\n",
            "  df['n_unique_subRegion'] = df.groupby('Group')['subRegionOrigin'].transform('nunique')\n",
            "/var/folders/_1/b3rdm_k545x_j0rrxlgs_15c0000gn/T/ipykernel_16950/3821932341.py:3: SettingWithCopyWarning: \n",
            "A value is trying to be set on a copy of a slice from a DataFrame.\n",
            "Try using .loc[row_indexer,col_indexer] = value instead\n",
            "\n",
            "See the caveats in the documentation: https://pandas.pydata.org/pandas-docs/stable/user_guide/indexing.html#returning-a-view-versus-a-copy\n",
            "  df['n_unique_origin'] = df.groupby('Group')['countryOrigin'].transform('nunique')\n",
            "/var/folders/_1/b3rdm_k545x_j0rrxlgs_15c0000gn/T/ipykernel_16950/3821932341.py:4: SettingWithCopyWarning: \n",
            "A value is trying to be set on a copy of a slice from a DataFrame.\n",
            "Try using .loc[row_indexer,col_indexer] = value instead\n",
            "\n",
            "See the caveats in the documentation: https://pandas.pydata.org/pandas-docs/stable/user_guide/indexing.html#returning-a-view-versus-a-copy\n",
            "  df['n_unique_subRegion'] = df.groupby('Group')['subRegionOrigin'].transform('nunique')\n",
            "/var/folders/_1/b3rdm_k545x_j0rrxlgs_15c0000gn/T/ipykernel_16950/3821932341.py:3: SettingWithCopyWarning: \n",
            "A value is trying to be set on a copy of a slice from a DataFrame.\n",
            "Try using .loc[row_indexer,col_indexer] = value instead\n",
            "\n",
            "See the caveats in the documentation: https://pandas.pydata.org/pandas-docs/stable/user_guide/indexing.html#returning-a-view-versus-a-copy\n",
            "  df['n_unique_origin'] = df.groupby('Group')['countryOrigin'].transform('nunique')\n",
            "/var/folders/_1/b3rdm_k545x_j0rrxlgs_15c0000gn/T/ipykernel_16950/3821932341.py:4: SettingWithCopyWarning: \n",
            "A value is trying to be set on a copy of a slice from a DataFrame.\n",
            "Try using .loc[row_indexer,col_indexer] = value instead\n",
            "\n",
            "See the caveats in the documentation: https://pandas.pydata.org/pandas-docs/stable/user_guide/indexing.html#returning-a-view-versus-a-copy\n",
            "  df['n_unique_subRegion'] = df.groupby('Group')['subRegionOrigin'].transform('nunique')\n"
          ]
        }
      ],
      "source": [
        "for year in years:\n",
        "  df = years_df[year]\n",
        "  df['n_unique_origin'] = df.groupby('Group')['countryOrigin'].transform('nunique')\n",
        "  df['n_unique_subRegion'] = df.groupby('Group')['subRegionOrigin'].transform('nunique')\n",
        "  df = df.drop(columns=['countryOriginAlt', 'countriesOriginTop','score','regionOrigin','topRegionOrigin', 'probabilityAltCalibrated'])\n",
        "  years_df[year] = df"
      ]
    },
    {
      "cell_type": "code",
      "execution_count": 6,
      "metadata": {
        "colab": {
          "base_uri": "https://localhost:8080/"
        },
        "id": "Mt-Xw1MRWxnI",
        "outputId": "17b065a7-c4fe-4d6a-a888-9f309b445d95"
      },
      "outputs": [
        {
          "name": "stderr",
          "output_type": "stream",
          "text": [
            "/var/folders/_1/b3rdm_k545x_j0rrxlgs_15c0000gn/T/ipykernel_16950/2800453634.py:4: InvalidColumnName: \n",
            "Not all pandas column names were valid Stata variable names.\n",
            "The following replacements have been made:\n",
            "\n",
            "    First Name   ->   First_Name\n",
            "    Midterm 1   ->   Midterm_1\n",
            "    Midterm 2   ->   Midterm_2\n",
            "\n",
            "If this is not what you expect, please make sure you have Stata-compliant\n",
            "column names in your DataFrame (strings only, max 32 characters, only\n",
            "alphanumerics and underscores, no Stata reserved words)\n",
            "\n",
            "  result.to_stata('studentDiversity_data.dta')\n"
          ]
        }
      ],
      "source": [
        "# Merging all year-wise dataframes\n",
        "frames = list(years_df.values())\n",
        "result = pd.concat(frames)\n",
        "result.to_stata('studentDiversity_data.dta')"
      ]
    }
  ],
  "metadata": {
    "colab": {
      "provenance": []
    },
    "kernelspec": {
      "display_name": "env",
      "language": "python",
      "name": "python3"
    },
    "language_info": {
      "codemirror_mode": {
        "name": "ipython",
        "version": 3
      },
      "file_extension": ".py",
      "mimetype": "text/x-python",
      "name": "python",
      "nbconvert_exporter": "python",
      "pygments_lexer": "ipython3",
      "version": "3.9.9"
    },
    "vscode": {
      "interpreter": {
        "hash": "4f9c3541a4e78a9be969ba3475e431d516b1f4e16adb4e229a60585f46f0a6ff"
      }
    }
  },
  "nbformat": 4,
  "nbformat_minor": 0
}
